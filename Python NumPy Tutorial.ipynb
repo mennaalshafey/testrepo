{
 "cells": [
  {
   "cell_type": "code",
   "execution_count": 2,
   "id": "cb978dd9",
   "metadata": {},
   "outputs": [],
   "source": [
    "import numpy as np"
   ]
  },
  {
   "cell_type": "markdown",
   "id": "d6baff28",
   "metadata": {},
   "source": [
    "# Basics "
   ]
  },
  {
   "cell_type": "code",
   "execution_count": 3,
   "id": "8c8f04c8",
   "metadata": {},
   "outputs": [
    {
     "name": "stdout",
     "output_type": "stream",
     "text": [
      "[1 2 3]\n"
     ]
    }
   ],
   "source": [
    "a=np.array([1,2,3],dtype='int16')\n",
    "print(a)"
   ]
  },
  {
   "cell_type": "code",
   "execution_count": 4,
   "id": "11e65c1c",
   "metadata": {},
   "outputs": [
    {
     "name": "stdout",
     "output_type": "stream",
     "text": [
      "[[1.1 1.2 3.5]\n",
      " [2.4 5.6 4.5]]\n"
     ]
    }
   ],
   "source": [
    "b=np.array([[1.1,1.2,3.5],[2.4,5.6,4.5]])\n",
    "print(b)"
   ]
  },
  {
   "cell_type": "markdown",
   "id": "2b5b3670",
   "metadata": {},
   "source": [
    "#### Get dimentions"
   ]
  },
  {
   "cell_type": "code",
   "execution_count": 5,
   "id": "e25a4f7a",
   "metadata": {},
   "outputs": [
    {
     "data": {
      "text/plain": [
       "1"
      ]
     },
     "execution_count": 5,
     "metadata": {},
     "output_type": "execute_result"
    }
   ],
   "source": [
    "a.ndim"
   ]
  },
  {
   "cell_type": "code",
   "execution_count": 7,
   "id": "991c6808",
   "metadata": {},
   "outputs": [
    {
     "data": {
      "text/plain": [
       "2"
      ]
     },
     "execution_count": 7,
     "metadata": {},
     "output_type": "execute_result"
    }
   ],
   "source": [
    "b.ndim\n"
   ]
  },
  {
   "cell_type": "markdown",
   "id": "cc99fcbc",
   "metadata": {},
   "source": [
    "#### Get shape "
   ]
  },
  {
   "cell_type": "code",
   "execution_count": 9,
   "id": "86152321",
   "metadata": {},
   "outputs": [
    {
     "data": {
      "text/plain": [
       "(3,)"
      ]
     },
     "execution_count": 9,
     "metadata": {},
     "output_type": "execute_result"
    }
   ],
   "source": [
    "a.shape"
   ]
  },
  {
   "cell_type": "code",
   "execution_count": 10,
   "id": "12b38433",
   "metadata": {},
   "outputs": [
    {
     "data": {
      "text/plain": [
       "(2, 3)"
      ]
     },
     "execution_count": 10,
     "metadata": {},
     "output_type": "execute_result"
    }
   ],
   "source": [
    "b.shape"
   ]
  },
  {
   "cell_type": "markdown",
   "id": "db82d707",
   "metadata": {},
   "source": [
    "#### Get type "
   ]
  },
  {
   "cell_type": "code",
   "execution_count": 11,
   "id": "6f44562c",
   "metadata": {},
   "outputs": [
    {
     "data": {
      "text/plain": [
       "dtype('int16')"
      ]
     },
     "execution_count": 11,
     "metadata": {},
     "output_type": "execute_result"
    }
   ],
   "source": [
    "a.dtype"
   ]
  },
  {
   "cell_type": "code",
   "execution_count": 12,
   "id": "c74b9abd",
   "metadata": {},
   "outputs": [
    {
     "data": {
      "text/plain": [
       "dtype('float64')"
      ]
     },
     "execution_count": 12,
     "metadata": {},
     "output_type": "execute_result"
    }
   ],
   "source": [
    "b.dtype "
   ]
  },
  {
   "cell_type": "markdown",
   "id": "85ae1851",
   "metadata": {},
   "source": [
    "#### Get size (bytes for single item)"
   ]
  },
  {
   "cell_type": "code",
   "execution_count": 13,
   "id": "eed3856f",
   "metadata": {},
   "outputs": [
    {
     "data": {
      "text/plain": [
       "2"
      ]
     },
     "execution_count": 13,
     "metadata": {},
     "output_type": "execute_result"
    }
   ],
   "source": [
    "a.itemsize"
   ]
  },
  {
   "cell_type": "code",
   "execution_count": 15,
   "id": "82bafa16",
   "metadata": {},
   "outputs": [
    {
     "data": {
      "text/plain": [
       "8"
      ]
     },
     "execution_count": 15,
     "metadata": {},
     "output_type": "execute_result"
    }
   ],
   "source": [
    "b.itemsize "
   ]
  },
  {
   "cell_type": "markdown",
   "id": "009a65fd",
   "metadata": {},
   "source": [
    "#### Get totlal size (bytes for all arryay )"
   ]
  },
  {
   "cell_type": "code",
   "execution_count": 17,
   "id": "ae7078ce",
   "metadata": {},
   "outputs": [
    {
     "data": {
      "text/plain": [
       "6"
      ]
     },
     "execution_count": 17,
     "metadata": {},
     "output_type": "execute_result"
    }
   ],
   "source": [
    "a.nbytes"
   ]
  },
  {
   "cell_type": "code",
   "execution_count": 19,
   "id": "ba5ef51b",
   "metadata": {},
   "outputs": [
    {
     "data": {
      "text/plain": [
       "48"
      ]
     },
     "execution_count": 19,
     "metadata": {},
     "output_type": "execute_result"
    }
   ],
   "source": [
    "b.nbytes"
   ]
  },
  {
   "cell_type": "markdown",
   "id": "45947ff8",
   "metadata": {},
   "source": [
    "# Insilize defffirent types of array "
   ]
  },
  {
   "cell_type": "code",
   "execution_count": 23,
   "id": "1a123cd8",
   "metadata": {},
   "outputs": [
    {
     "data": {
      "text/plain": [
       "array([[0., 0.],\n",
       "       [0., 0.],\n",
       "       [0., 0.]])"
      ]
     },
     "execution_count": 23,
     "metadata": {},
     "output_type": "execute_result"
    }
   ],
   "source": [
    "#all zeros matrix\n",
    "np.zeros((3,2))"
   ]
  },
  {
   "cell_type": "code",
   "execution_count": 24,
   "id": "9df306b6",
   "metadata": {},
   "outputs": [
    {
     "data": {
      "text/plain": [
       "array([[1., 1., 1.],\n",
       "       [1., 1., 1.]])"
      ]
     },
     "execution_count": 24,
     "metadata": {},
     "output_type": "execute_result"
    }
   ],
   "source": [
    "#all ones matrix \n",
    "np.ones((2,3))"
   ]
  },
  {
   "cell_type": "code",
   "execution_count": 26,
   "id": "7b4f6737",
   "metadata": {},
   "outputs": [
    {
     "data": {
      "text/plain": [
       "array([[4, 4],\n",
       "       [4, 4],\n",
       "       [4, 4]])"
      ]
     },
     "execution_count": 26,
     "metadata": {},
     "output_type": "execute_result"
    }
   ],
   "source": [
    "#all with specific number\n",
    "np.full((3,2),4)"
   ]
  },
  {
   "cell_type": "code",
   "execution_count": 28,
   "id": "50358df0",
   "metadata": {},
   "outputs": [
    {
     "data": {
      "text/plain": [
       "array([4, 4, 4], dtype=int16)"
      ]
     },
     "execution_count": 28,
     "metadata": {},
     "output_type": "execute_result"
    }
   ],
   "source": [
    "#all with specific number (full like) --> same shape\n",
    "np.full_like(a,4)"
   ]
  },
  {
   "cell_type": "code",
   "execution_count": 29,
   "id": "01cb5851",
   "metadata": {},
   "outputs": [
    {
     "data": {
      "text/plain": [
       "array([4, 4, 4])"
      ]
     },
     "execution_count": 29,
     "metadata": {},
     "output_type": "execute_result"
    }
   ],
   "source": [
    "np.full(a.shape,4)"
   ]
  },
  {
   "cell_type": "code",
   "execution_count": 41,
   "id": "2e170725",
   "metadata": {},
   "outputs": [
    {
     "data": {
      "text/plain": [
       "array([[0.77277644, 0.70937217, 0.95951911],\n",
       "       [0.23999783, 0.64315293, 0.31385454]])"
      ]
     },
     "execution_count": 41,
     "metadata": {},
     "output_type": "execute_result"
    }
   ],
   "source": [
    "#random decimal values \n",
    "np.random.rand(2,3)\n",
    "               "
   ]
  },
  {
   "cell_type": "code",
   "execution_count": 36,
   "id": "d308e454",
   "metadata": {},
   "outputs": [
    {
     "data": {
      "text/plain": [
       "array([0.97937529, 0.32563609, 0.29570987])"
      ]
     },
     "execution_count": 36,
     "metadata": {},
     "output_type": "execute_result"
    }
   ],
   "source": [
    "#random decimal values with specific shape \n",
    "np.random.random_sample(a.shape)"
   ]
  },
  {
   "cell_type": "code",
   "execution_count": 43,
   "id": "3189f9ce",
   "metadata": {},
   "outputs": [
    {
     "data": {
      "text/plain": [
       "array([[6, 6, 5],\n",
       "       [6, 4, 3],\n",
       "       [6, 5, 6]])"
      ]
     },
     "execution_count": 43,
     "metadata": {},
     "output_type": "execute_result"
    }
   ],
   "source": [
    "#specify stert and end\n",
    "np.random.randint(3,8,size=(3,3))"
   ]
  },
  {
   "cell_type": "code",
   "execution_count": 44,
   "id": "61970e28",
   "metadata": {},
   "outputs": [
    {
     "data": {
      "text/plain": [
       "array([[1., 0., 0., 0., 0.],\n",
       "       [0., 1., 0., 0., 0.],\n",
       "       [0., 0., 1., 0., 0.],\n",
       "       [0., 0., 0., 1., 0.],\n",
       "       [0., 0., 0., 0., 1.]])"
      ]
     },
     "execution_count": 44,
     "metadata": {},
     "output_type": "execute_result"
    }
   ],
   "source": [
    "#identity matrix \n",
    "np.identity(5)"
   ]
  },
  {
   "cell_type": "code",
   "execution_count": 52,
   "id": "15fb55d4",
   "metadata": {},
   "outputs": [
    {
     "name": "stdout",
     "output_type": "stream",
     "text": [
      "[[1 2 3]\n",
      " [1 2 3]\n",
      " [1 2 3]]\n"
     ]
    }
   ],
   "source": [
    "arr=np.array([[1,2,3]])\n",
    "re=np.repeat(arr,3,axis=0)\n",
    "print(re)"
   ]
  },
  {
   "cell_type": "code",
   "execution_count": 57,
   "id": "e25f933c",
   "metadata": {},
   "outputs": [
    {
     "name": "stdout",
     "output_type": "stream",
     "text": [
      "[[1. 1. 1. 1. 1.]\n",
      " [1. 1. 1. 1. 1.]\n",
      " [1. 1. 1. 1. 1.]\n",
      " [1. 1. 1. 1. 1.]\n",
      " [1. 1. 1. 1. 1.]]\n"
     ]
    }
   ],
   "source": [
    "test=np.ones((5,5))\n",
    "print(test)"
   ]
  },
  {
   "cell_type": "code",
   "execution_count": 59,
   "id": "55932b26",
   "metadata": {},
   "outputs": [
    {
     "name": "stdout",
     "output_type": "stream",
     "text": [
      "[[1. 1. 1. 1. 1.]\n",
      " [1. 0. 0. 0. 1.]\n",
      " [1. 0. 0. 0. 1.]\n",
      " [1. 0. 0. 0. 1.]\n",
      " [1. 1. 1. 1. 1.]]\n"
     ]
    }
   ],
   "source": [
    "test[1:4,1:4]=0\n",
    "print(test)"
   ]
  },
  {
   "cell_type": "code",
   "execution_count": 61,
   "id": "baa3816b",
   "metadata": {},
   "outputs": [
    {
     "name": "stdout",
     "output_type": "stream",
     "text": [
      "[[1. 1. 1. 1. 1.]\n",
      " [1. 0. 0. 0. 1.]\n",
      " [1. 0. 9. 0. 1.]\n",
      " [1. 0. 0. 0. 1.]\n",
      " [1. 1. 1. 1. 1.]]\n"
     ]
    }
   ],
   "source": [
    "test[2,2]=9\n",
    "print(test)"
   ]
  },
  {
   "cell_type": "code",
   "execution_count": 6,
   "id": "50fe10f6",
   "metadata": {},
   "outputs": [
    {
     "name": "stdout",
     "output_type": "stream",
     "text": [
      "[ 0.          0.06711409  0.13422819  0.20134228  0.26845638  0.33557047\n",
      "  0.40268456  0.46979866  0.53691275  0.60402685  0.67114094  0.73825503\n",
      "  0.80536913  0.87248322  0.93959732  1.00671141  1.0738255   1.1409396\n",
      "  1.20805369  1.27516779  1.34228188  1.40939597  1.47651007  1.54362416\n",
      "  1.61073826  1.67785235  1.74496644  1.81208054  1.87919463  1.94630872\n",
      "  2.01342282  2.08053691  2.14765101  2.2147651   2.28187919  2.34899329\n",
      "  2.41610738  2.48322148  2.55033557  2.61744966  2.68456376  2.75167785\n",
      "  2.81879195  2.88590604  2.95302013  3.02013423  3.08724832  3.15436242\n",
      "  3.22147651  3.2885906   3.3557047   3.42281879  3.48993289  3.55704698\n",
      "  3.62416107  3.69127517  3.75838926  3.82550336  3.89261745  3.95973154\n",
      "  4.02684564  4.09395973  4.16107383  4.22818792  4.29530201  4.36241611\n",
      "  4.4295302   4.4966443   4.56375839  4.63087248  4.69798658  4.76510067\n",
      "  4.83221477  4.89932886  4.96644295  5.03355705  5.10067114  5.16778523\n",
      "  5.23489933  5.30201342  5.36912752  5.43624161  5.5033557   5.5704698\n",
      "  5.63758389  5.70469799  5.77181208  5.83892617  5.90604027  5.97315436\n",
      "  6.04026846  6.10738255  6.17449664  6.24161074  6.30872483  6.37583893\n",
      "  6.44295302  6.51006711  6.57718121  6.6442953   6.7114094   6.77852349\n",
      "  6.84563758  6.91275168  6.97986577  7.04697987  7.11409396  7.18120805\n",
      "  7.24832215  7.31543624  7.38255034  7.44966443  7.51677852  7.58389262\n",
      "  7.65100671  7.71812081  7.7852349   7.85234899  7.91946309  7.98657718\n",
      "  8.05369128  8.12080537  8.18791946  8.25503356  8.32214765  8.38926174\n",
      "  8.45637584  8.52348993  8.59060403  8.65771812  8.72483221  8.79194631\n",
      "  8.8590604   8.9261745   8.99328859  9.06040268  9.12751678  9.19463087\n",
      "  9.26174497  9.32885906  9.39597315  9.46308725  9.53020134  9.59731544\n",
      "  9.66442953  9.73154362  9.79865772  9.86577181  9.93288591 10.        ]\n"
     ]
    }
   ],
   "source": [
    "#make matrix with start ,end and number of items\n",
    "lin=np.linspace(0,10,150)\n",
    "print(lin)"
   ]
  },
  {
   "cell_type": "code",
   "execution_count": 5,
   "id": "7de17e73",
   "metadata": {},
   "outputs": [
    {
     "name": "stdout",
     "output_type": "stream",
     "text": [
      "[0 1 2 3 4 5 6 7 8 9]\n"
     ]
    }
   ],
   "source": [
    "#make matrix with start ,end and seps value\n",
    "arange=np.arange(0,10,1)\n",
    "print(arange)"
   ]
  },
  {
   "cell_type": "markdown",
   "id": "e874c8a8",
   "metadata": {},
   "source": [
    "### Be carefull with copying !!\n"
   ]
  },
  {
   "cell_type": "code",
   "execution_count": 63,
   "id": "7b127632",
   "metadata": {},
   "outputs": [
    {
     "name": "stdout",
     "output_type": "stream",
     "text": [
      "[1 2 2]\n",
      "[1 2 2]\n"
     ]
    }
   ],
   "source": [
    "#if use this to compy a in b ,if you change b then a will change too \n",
    "a=np.array([1,2,2])\n",
    "b=a\n",
    "print(a)\n",
    "print(b)"
   ]
  },
  {
   "cell_type": "code",
   "execution_count": 67,
   "id": "00e08c86",
   "metadata": {},
   "outputs": [
    {
     "name": "stdout",
     "output_type": "stream",
     "text": [
      "[3 2 2]\n",
      "[3 2 2]\n"
     ]
    }
   ],
   "source": [
    "b[0]=3\n",
    "print(a)\n",
    "print(b)"
   ]
  },
  {
   "cell_type": "code",
   "execution_count": 68,
   "id": "297a33af",
   "metadata": {},
   "outputs": [
    {
     "name": "stdout",
     "output_type": "stream",
     "text": [
      "[1 2 2]\n",
      "[1 2 2]\n"
     ]
    }
   ],
   "source": [
    "#instade:\n",
    "a=np.array([1,2,2])\n",
    "b=np.copy(a)\n",
    "print(a)\n",
    "print(b)\n"
   ]
  },
  {
   "cell_type": "code",
   "execution_count": 69,
   "id": "d7b01b11",
   "metadata": {},
   "outputs": [
    {
     "name": "stdout",
     "output_type": "stream",
     "text": [
      "[1 2 2]\n",
      "[3 2 2]\n"
     ]
    }
   ],
   "source": [
    "b[0]=3\n",
    "print(a)\n",
    "print(b)"
   ]
  },
  {
   "cell_type": "markdown",
   "id": "f8cf988f",
   "metadata": {},
   "source": [
    "# Indexing and slicing "
   ]
  },
  {
   "cell_type": "code",
   "execution_count": 8,
   "id": "357baeac",
   "metadata": {},
   "outputs": [],
   "source": [
    "a=np.array([1,2,3,4,5])"
   ]
  },
  {
   "cell_type": "code",
   "execution_count": 9,
   "id": "f7e82f24",
   "metadata": {},
   "outputs": [
    {
     "data": {
      "text/plain": [
       "array([4, 5])"
      ]
     },
     "execution_count": 9,
     "metadata": {},
     "output_type": "execute_result"
    }
   ],
   "source": [
    "a[a>3]"
   ]
  },
  {
   "cell_type": "markdown",
   "id": "28384dcb",
   "metadata": {},
   "source": [
    "#### NumPy vectorization involves performing mathematical operations on entire arrays, eliminating the need to loop through individual elements."
   ]
  },
  {
   "cell_type": "code",
   "execution_count": 10,
   "id": "0e385f4c",
   "metadata": {},
   "outputs": [],
   "source": [
    "b=np.array(['menna','malak','doaa'])"
   ]
  },
  {
   "cell_type": "code",
   "execution_count": 13,
   "id": "f7ba545c",
   "metadata": {},
   "outputs": [],
   "source": [
    "v=np.vectorize(lambda s:s[0])(b)=='m'"
   ]
  },
  {
   "cell_type": "code",
   "execution_count": 14,
   "id": "c82a4789",
   "metadata": {},
   "outputs": [
    {
     "data": {
      "text/plain": [
       "array(['menna', 'malak'], dtype='<U5')"
      ]
     },
     "execution_count": 14,
     "metadata": {},
     "output_type": "execute_result"
    }
   ],
   "source": [
    "b[v]"
   ]
  },
  {
   "cell_type": "code",
   "execution_count": null,
   "id": "9d70af53",
   "metadata": {},
   "outputs": [],
   "source": []
  }
 ],
 "metadata": {
  "kernelspec": {
   "display_name": "Python 3 (ipykernel)",
   "language": "python",
   "name": "python3"
  },
  "language_info": {
   "codemirror_mode": {
    "name": "ipython",
    "version": 3
   },
   "file_extension": ".py",
   "mimetype": "text/x-python",
   "name": "python",
   "nbconvert_exporter": "python",
   "pygments_lexer": "ipython3",
   "version": "3.10.11"
  }
 },
 "nbformat": 4,
 "nbformat_minor": 5
}
